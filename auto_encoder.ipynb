{
 "cells": [
  {
   "cell_type": "markdown",
   "metadata": {},
   "source": [
    "## Keras Auto Encoder for Anomaly Detection with Custom Layer for determining Encoder Decoder Reconstruction Cost## Kohler - Multi-input Categorical Embeddings with Numericals"
   ]
  },
  {
   "cell_type": "markdown",
   "metadata": {},
   "source": [
    "### Loading Necessary Files and Libraries"
   ]
  },
  {
   "cell_type": "code",
   "execution_count": 1,
   "metadata": {},
   "outputs": [
    {
     "name": "stderr",
     "output_type": "stream",
     "text": [
      "Using TensorFlow backend.\n"
     ]
    }
   ],
   "source": [
    "import keras\n",
    "from keras.models import Model, Sequential\n",
    "from keras.layers import Embedding, Input, Dense, LSTM\n",
    "from keras.preprocessing.text import Tokenizer\n",
    "from keras import layers\n",
    "import pandas as pd\n",
    "import numpy as np\n",
    "from sklearn import preprocessing\n",
    "import matplotlib.pyplot as plt\n",
    "from keras import optimizers\n",
    "import pickle\n",
    "import os\n",
    "from keras.layers import initializers \n",
    "from keras.layers import regularizers \n",
    "from keras.layers import constraints \n",
    "from keras.layers import Activation\n",
    "from keras.layers.advanced_activations import PReLU\n",
    "from keras.layers.advanced_activations import LeakyReLU\n",
    "from keras.layers.advanced_activations import ELU\n",
    "from keras.constraints import max_norm\n",
    "from keras.layers import LeakyReLU\n",
    "from keras import optimizers, losses, activations, models\n",
    "from keras.callbacks import ModelCheckpoint, EarlyStopping, LearningRateScheduler\n",
    "from keras.layers import Dense, Input, Dropout, Convolution1D, MaxPool1D, GlobalMaxPool1D, GlobalAveragePooling1D, \\\n",
    "    concatenate\n",
    "from keras.layers import MaxPooling2D, Flatten, Conv2D\n",
    "from keras.utils import to_categorical\n",
    "initializer1 = keras.initializers.RandomNormal\n",
    "initializer2 = keras.initializers.Zeros()\n",
    "initializer3 = keras.initializers.glorot_uniform(seed=None)\n",
    "initializer4 = keras.initializers.lecun_normal(seed=None)\n",
    "%matplotlib inline"
   ]
  },
  {
   "cell_type": "markdown",
   "metadata": {},
   "source": [
    "## Load Data"
   ]
  },
  {
   "cell_type": "code",
   "execution_count": 2,
   "metadata": {},
   "outputs": [
    {
     "name": "stdout",
     "output_type": "stream",
     "text": [
      "(1831, 22)\n"
     ]
    }
   ],
   "source": [
    "data = pd.read_csv(\"cardio.csv\")\n",
    "data.drop(\"key\", inplace=True, axis=1)\n",
    "print(data.shape)"
   ]
  },
  {
   "cell_type": "code",
   "execution_count": 3,
   "metadata": {},
   "outputs": [
    {
     "data": {
      "text/html": [
       "<div>\n",
       "<style scoped>\n",
       "    .dataframe tbody tr th:only-of-type {\n",
       "        vertical-align: middle;\n",
       "    }\n",
       "\n",
       "    .dataframe tbody tr th {\n",
       "        vertical-align: top;\n",
       "    }\n",
       "\n",
       "    .dataframe thead th {\n",
       "        text-align: right;\n",
       "    }\n",
       "</style>\n",
       "<table border=\"1\" class=\"dataframe\">\n",
       "  <thead>\n",
       "    <tr style=\"text-align: right;\">\n",
       "      <th></th>\n",
       "      <th>X.1</th>\n",
       "      <th>X.2</th>\n",
       "      <th>X.3</th>\n",
       "      <th>X.4</th>\n",
       "      <th>X.5</th>\n",
       "      <th>X.6</th>\n",
       "      <th>X.7</th>\n",
       "      <th>X.8</th>\n",
       "      <th>X.9</th>\n",
       "      <th>X.10</th>\n",
       "      <th>...</th>\n",
       "      <th>X.13</th>\n",
       "      <th>X.14</th>\n",
       "      <th>X.15</th>\n",
       "      <th>X.16</th>\n",
       "      <th>X.17</th>\n",
       "      <th>X.18</th>\n",
       "      <th>X.19</th>\n",
       "      <th>X.20</th>\n",
       "      <th>X.21</th>\n",
       "      <th>target</th>\n",
       "    </tr>\n",
       "  </thead>\n",
       "  <tbody>\n",
       "    <tr>\n",
       "      <th>0</th>\n",
       "      <td>0.004912</td>\n",
       "      <td>0.693191</td>\n",
       "      <td>-0.20364</td>\n",
       "      <td>0.595322</td>\n",
       "      <td>0.35319</td>\n",
       "      <td>-0.061401</td>\n",
       "      <td>-0.278295</td>\n",
       "      <td>-1.650444</td>\n",
       "      <td>0.759072</td>\n",
       "      <td>-0.420487</td>\n",
       "      <td>...</td>\n",
       "      <td>-0.798376</td>\n",
       "      <td>1.854728</td>\n",
       "      <td>0.622631</td>\n",
       "      <td>0.963083</td>\n",
       "      <td>0.301464</td>\n",
       "      <td>0.193113</td>\n",
       "      <td>0.231498</td>\n",
       "      <td>-0.289786</td>\n",
       "      <td>-0.493294</td>\n",
       "      <td>0</td>\n",
       "    </tr>\n",
       "  </tbody>\n",
       "</table>\n",
       "<p>1 rows × 22 columns</p>\n",
       "</div>"
      ],
      "text/plain": [
       "        X.1       X.2      X.3       X.4      X.5       X.6       X.7  \\\n",
       "0  0.004912  0.693191 -0.20364  0.595322  0.35319 -0.061401 -0.278295   \n",
       "\n",
       "        X.8       X.9      X.10   ...        X.13      X.14      X.15  \\\n",
       "0 -1.650444  0.759072 -0.420487   ...   -0.798376  1.854728  0.622631   \n",
       "\n",
       "       X.16      X.17      X.18      X.19      X.20      X.21  target  \n",
       "0  0.963083  0.301464  0.193113  0.231498 -0.289786 -0.493294       0  \n",
       "\n",
       "[1 rows x 22 columns]"
      ]
     },
     "execution_count": 3,
     "metadata": {},
     "output_type": "execute_result"
    }
   ],
   "source": [
    "data.head(1)"
   ]
  },
  {
   "cell_type": "code",
   "execution_count": 4,
   "metadata": {},
   "outputs": [
    {
     "data": {
      "text/plain": [
       "0    1655\n",
       "1     176\n",
       "Name: target, dtype: int64"
      ]
     },
     "execution_count": 4,
     "metadata": {},
     "output_type": "execute_result"
    }
   ],
   "source": [
    "data[\"target\"].value_counts()"
   ]
  },
  {
   "cell_type": "code",
   "execution_count": 5,
   "metadata": {},
   "outputs": [
    {
     "name": "stdout",
     "output_type": "stream",
     "text": [
      "(1831, 22) (176, 22) (1655, 22) 1831\n"
     ]
    }
   ],
   "source": [
    "all = data\n",
    "positive = data[data[\"target\"] > 0]\n",
    "negative = data[data[\"target\"] == 0]\n",
    "\n",
    "print(all.shape, positive.shape, negative.shape, positive.shape[0] + negative.shape[0])"
   ]
  },
  {
   "cell_type": "code",
   "execution_count": 6,
   "metadata": {},
   "outputs": [
    {
     "name": "stdout",
     "output_type": "stream",
     "text": [
      "(1831, 21) (176, 21) (1655, 21) 1831\n"
     ]
    },
    {
     "name": "stderr",
     "output_type": "stream",
     "text": [
      "/anaconda3/lib/python3.7/site-packages/pandas/core/frame.py:3697: SettingWithCopyWarning: \n",
      "A value is trying to be set on a copy of a slice from a DataFrame\n",
      "\n",
      "See the caveats in the documentation: http://pandas.pydata.org/pandas-docs/stable/indexing.html#indexing-view-versus-copy\n",
      "  errors=errors)\n"
     ]
    }
   ],
   "source": [
    "all.drop(\"target\", inplace=True, axis=1)\n",
    "positive.drop(\"target\", inplace=True, axis=1)\n",
    "negative.drop(\"target\", inplace=True, axis=1)\n",
    "\n",
    "print(all.shape, positive.shape, negative.shape, positive.shape[0] + negative.shape[0])"
   ]
  },
  {
   "cell_type": "markdown",
   "metadata": {},
   "source": [
    "## Positive is the anomalies - Train AutoEncoder with Negatives"
   ]
  },
  {
   "cell_type": "code",
   "execution_count": 7,
   "metadata": {},
   "outputs": [],
   "source": [
    "INPUT_SIZE = negative.shape[1]\n",
    "AUTO_ENCODER_SHAPE = 128"
   ]
  },
  {
   "cell_type": "code",
   "execution_count": 8,
   "metadata": {},
   "outputs": [
    {
     "name": "stdout",
     "output_type": "stream",
     "text": [
      "(1489, 21) (166, 21) (1489, 1) 21 1655\n"
     ]
    }
   ],
   "source": [
    "train_size = int(negative.shape[0]*90/100)\n",
    "negative = negative.sample(frac=1)\n",
    "X_train = negative.iloc[:train_size]\n",
    "X_test = negative.iloc[-(negative.shape[0] - train_size):]\n",
    "\n",
    "# force the model to lower the autoencoder reconstruction cost\n",
    "Y = np.zeros([X_train.shape[0], 1], dtype = float) # ZEROS MATRIX with shape (,1)\n",
    "\n",
    "print(X_train.shape, X_test.shape, Y.shape, INPUT_SIZE, X_train.shape[0] + X_test.shape[0])"
   ]
  },
  {
   "cell_type": "markdown",
   "metadata": {},
   "source": [
    "## Build the Encoder"
   ]
  },
  {
   "cell_type": "code",
   "execution_count": 9,
   "metadata": {},
   "outputs": [
    {
     "name": "stdout",
     "output_type": "stream",
     "text": [
      "WARNING:tensorflow:From /anaconda3/lib/python3.7/site-packages/tensorflow/python/framework/op_def_library.py:263: colocate_with (from tensorflow.python.framework.ops) is deprecated and will be removed in a future version.\n",
      "Instructions for updating:\n",
      "Colocations handled automatically by placer.\n"
     ]
    }
   ],
   "source": [
    "input = Input(shape=(INPUT_SIZE,))\n",
    "\n",
    "input_encoder = layers.Dense(AUTO_ENCODER_SHAPE, activation = 'relu')(input)\n",
    "hidden2 = layers.Dense(64, activation = 'relu')(input_encoder)\n",
    "encoded = layers.Dense(32, activation = 'relu')(hidden2)"
   ]
  },
  {
   "cell_type": "markdown",
   "metadata": {},
   "source": [
    "## Build the Decoder"
   ]
  },
  {
   "cell_type": "code",
   "execution_count": 10,
   "metadata": {},
   "outputs": [],
   "source": [
    "hidden3 = Dense(64, activation='relu')(encoded)\n",
    "output_decoder = Dense(AUTO_ENCODER_SHAPE, activation='relu')(hidden3)\n",
    "# decoded = Dense(100, activation='relu')(output_decoder)"
   ]
  },
  {
   "cell_type": "code",
   "execution_count": 11,
   "metadata": {},
   "outputs": [],
   "source": [
    "from keras import backend as K\n",
    "from keras.layers import Layer\n",
    "\n",
    "class ReconstructionCostLayer(Layer):\n",
    "\n",
    "    def __init__(self,output_dim):\n",
    "        self.output_dim = output_dim\n",
    "        super(ReconstructionCostLayer, self).__init__()\n",
    "\n",
    "    def build(self, input_shape):\n",
    "        super(ReconstructionCostLayer, self).build(input_shape)  # Be sure to call this at the end\n",
    "\n",
    "    def call(self, x):\n",
    "        left = K.slice(x, [0, 0], [-1, AUTO_ENCODER_SHAPE])\n",
    "        right = K.slice(x, [0, AUTO_ENCODER_SHAPE], [-1, -1])\n",
    "        return K.sum(K.square(left - right), axis=1)\n",
    "\n",
    "    def compute_output_shape(self, input_shape):\n",
    "        return (input_shape[0], self.output_dim)"
   ]
  },
  {
   "cell_type": "markdown",
   "metadata": {},
   "source": [
    "### Concatenate Encoder input and Decoder output"
   ]
  },
  {
   "cell_type": "code",
   "execution_count": 12,
   "metadata": {},
   "outputs": [],
   "source": [
    "input_encoder_plus_output_decoder = layers.concatenate([input_encoder, output_decoder], axis=1)\n"
   ]
  },
  {
   "cell_type": "markdown",
   "metadata": {},
   "source": [
    "### Call the custom layer"
   ]
  },
  {
   "cell_type": "code",
   "execution_count": 13,
   "metadata": {},
   "outputs": [],
   "source": [
    "reconstruction_cost_layer = ReconstructionCostLayer(1)(input_encoder_plus_output_decoder)"
   ]
  },
  {
   "cell_type": "markdown",
   "metadata": {},
   "source": [
    "# Build the AutoEncoder with Regression Model"
   ]
  },
  {
   "cell_type": "code",
   "execution_count": 14,
   "metadata": {},
   "outputs": [],
   "source": [
    "model = Model(input, reconstruction_cost_layer)"
   ]
  },
  {
   "cell_type": "markdown",
   "metadata": {},
   "source": [
    "#### Visualize Model Architecture"
   ]
  },
  {
   "cell_type": "code",
   "execution_count": 15,
   "metadata": {},
   "outputs": [],
   "source": [
    "adam = optimizers.Adam(lr=0.003, beta_1=0.9, beta_2=0.999, epsilon=1e-4, decay=0.0, amsgrad=True)\n",
    "model.compile(optimizer=adam, loss='mean_squared_error', metrics=['mse'])\n"
   ]
  },
  {
   "cell_type": "code",
   "execution_count": 16,
   "metadata": {},
   "outputs": [
    {
     "name": "stdout",
     "output_type": "stream",
     "text": [
      "__________________________________________________________________________________________________\n",
      "Layer (type)                    Output Shape         Param #     Connected to                     \n",
      "==================================================================================================\n",
      "input_1 (InputLayer)            (None, 21)           0                                            \n",
      "__________________________________________________________________________________________________\n",
      "dense_1 (Dense)                 (None, 128)          2816        input_1[0][0]                    \n",
      "__________________________________________________________________________________________________\n",
      "dense_2 (Dense)                 (None, 64)           8256        dense_1[0][0]                    \n",
      "__________________________________________________________________________________________________\n",
      "dense_3 (Dense)                 (None, 32)           2080        dense_2[0][0]                    \n",
      "__________________________________________________________________________________________________\n",
      "dense_4 (Dense)                 (None, 64)           2112        dense_3[0][0]                    \n",
      "__________________________________________________________________________________________________\n",
      "dense_5 (Dense)                 (None, 128)          8320        dense_4[0][0]                    \n",
      "__________________________________________________________________________________________________\n",
      "concatenate_1 (Concatenate)     (None, 256)          0           dense_1[0][0]                    \n",
      "                                                                 dense_5[0][0]                    \n",
      "__________________________________________________________________________________________________\n",
      "reconstruction_cost_layer_1 (Re (None, 1)            0           concatenate_1[0][0]              \n",
      "==================================================================================================\n",
      "Total params: 23,584\n",
      "Trainable params: 23,584\n",
      "Non-trainable params: 0\n",
      "__________________________________________________________________________________________________\n",
      "None\n"
     ]
    }
   ],
   "source": [
    "print(model.summary())"
   ]
  },
  {
   "cell_type": "markdown",
   "metadata": {},
   "source": [
    "# Train"
   ]
  },
  {
   "cell_type": "code",
   "execution_count": 17,
   "metadata": {
    "scrolled": true
   },
   "outputs": [
    {
     "name": "stdout",
     "output_type": "stream",
     "text": [
      "WARNING:tensorflow:From /anaconda3/lib/python3.7/site-packages/tensorflow/python/ops/math_ops.py:3066: to_int32 (from tensorflow.python.ops.math_ops) is deprecated and will be removed in a future version.\n",
      "Instructions for updating:\n",
      "Use tf.cast instead.\n",
      "Epoch 1/200\n",
      "1489/1489 [==============================] - 0s 123us/step - loss: 74.5193 - mean_squared_error: 74.5193\n",
      "Epoch 2/200\n",
      "1489/1489 [==============================] - 0s 24us/step - loss: 11.8069 - mean_squared_error: 11.8069\n",
      "Epoch 3/200\n",
      "1489/1489 [==============================] - 0s 25us/step - loss: 3.9650 - mean_squared_error: 3.9650\n",
      "Epoch 4/200\n",
      "1489/1489 [==============================] - 0s 26us/step - loss: 2.0476 - mean_squared_error: 2.0476\n",
      "Epoch 5/200\n",
      "1489/1489 [==============================] - 0s 25us/step - loss: 1.6168 - mean_squared_error: 1.6168\n",
      "Epoch 6/200\n",
      "1489/1489 [==============================] - 0s 24us/step - loss: 3.0995 - mean_squared_error: 3.0995\n",
      "Epoch 7/200\n",
      "1489/1489 [==============================] - 0s 25us/step - loss: 6.7586 - mean_squared_error: 6.7586\n",
      "Epoch 8/200\n",
      "1489/1489 [==============================] - 0s 25us/step - loss: 1.6021 - mean_squared_error: 1.6021\n",
      "Epoch 9/200\n",
      "1489/1489 [==============================] - 0s 26us/step - loss: 0.7598 - mean_squared_error: 0.7598\n",
      "Epoch 10/200\n",
      "1489/1489 [==============================] - 0s 24us/step - loss: 0.4665 - mean_squared_error: 0.4665\n",
      "Epoch 11/200\n",
      "1489/1489 [==============================] - 0s 24us/step - loss: 0.2867 - mean_squared_error: 0.2867\n",
      "Epoch 12/200\n",
      "1489/1489 [==============================] - 0s 24us/step - loss: 0.2211 - mean_squared_error: 0.2211\n",
      "Epoch 13/200\n",
      "1489/1489 [==============================] - 0s 25us/step - loss: 0.1836 - mean_squared_error: 0.1836\n",
      "Epoch 14/200\n",
      "1489/1489 [==============================] - 0s 25us/step - loss: 0.1602 - mean_squared_error: 0.1602\n",
      "Epoch 15/200\n",
      "1489/1489 [==============================] - 0s 25us/step - loss: 0.1411 - mean_squared_error: 0.1411\n",
      "Epoch 16/200\n",
      "1489/1489 [==============================] - 0s 25us/step - loss: 0.1263 - mean_squared_error: 0.1263\n",
      "Epoch 17/200\n",
      "1489/1489 [==============================] - 0s 24us/step - loss: 0.1140 - mean_squared_error: 0.1140\n",
      "Epoch 18/200\n",
      "1489/1489 [==============================] - 0s 24us/step - loss: 0.1037 - mean_squared_error: 0.1037\n",
      "Epoch 19/200\n",
      "1489/1489 [==============================] - 0s 25us/step - loss: 0.0945 - mean_squared_error: 0.0945\n",
      "Epoch 20/200\n",
      "1489/1489 [==============================] - 0s 25us/step - loss: 0.0868 - mean_squared_error: 0.0868\n",
      "Epoch 21/200\n",
      "1489/1489 [==============================] - 0s 25us/step - loss: 0.0801 - mean_squared_error: 0.0801\n",
      "Epoch 22/200\n",
      "1489/1489 [==============================] - 0s 26us/step - loss: 0.0745 - mean_squared_error: 0.0745\n",
      "Epoch 23/200\n",
      "1489/1489 [==============================] - 0s 25us/step - loss: 0.0692 - mean_squared_error: 0.0692\n",
      "Epoch 24/200\n",
      "1489/1489 [==============================] - 0s 25us/step - loss: 0.0647 - mean_squared_error: 0.0647\n",
      "Epoch 25/200\n",
      "1489/1489 [==============================] - 0s 25us/step - loss: 0.0604 - mean_squared_error: 0.0604\n",
      "Epoch 26/200\n",
      "1489/1489 [==============================] - 0s 25us/step - loss: 0.0567 - mean_squared_error: 0.0567\n",
      "Epoch 27/200\n",
      "1489/1489 [==============================] - 0s 25us/step - loss: 0.0534 - mean_squared_error: 0.0534\n",
      "Epoch 28/200\n",
      "1489/1489 [==============================] - 0s 24us/step - loss: 0.0503 - mean_squared_error: 0.0503\n",
      "Epoch 29/200\n",
      "1489/1489 [==============================] - 0s 25us/step - loss: 0.0474 - mean_squared_error: 0.0474\n",
      "Epoch 30/200\n",
      "1489/1489 [==============================] - 0s 25us/step - loss: 0.0450 - mean_squared_error: 0.0450\n",
      "Epoch 31/200\n",
      "1489/1489 [==============================] - 0s 25us/step - loss: 0.0428 - mean_squared_error: 0.0428\n",
      "Epoch 32/200\n",
      "1489/1489 [==============================] - 0s 25us/step - loss: 0.0404 - mean_squared_error: 0.0404\n",
      "Epoch 33/200\n",
      "1489/1489 [==============================] - 0s 24us/step - loss: 0.0384 - mean_squared_error: 0.0384\n",
      "Epoch 34/200\n",
      "1489/1489 [==============================] - 0s 26us/step - loss: 0.0366 - mean_squared_error: 0.0366\n",
      "Epoch 35/200\n",
      "1489/1489 [==============================] - 0s 25us/step - loss: 0.0349 - mean_squared_error: 0.0349\n",
      "Epoch 36/200\n",
      "1489/1489 [==============================] - 0s 25us/step - loss: 0.0333 - mean_squared_error: 0.0333\n",
      "Epoch 37/200\n",
      "1489/1489 [==============================] - 0s 26us/step - loss: 0.0318 - mean_squared_error: 0.0318\n",
      "Epoch 38/200\n",
      "1489/1489 [==============================] - 0s 25us/step - loss: 0.0304 - mean_squared_error: 0.0304\n",
      "Epoch 39/200\n",
      "1489/1489 [==============================] - 0s 25us/step - loss: 0.0291 - mean_squared_error: 0.0291\n",
      "Epoch 40/200\n",
      "1489/1489 [==============================] - 0s 25us/step - loss: 0.0280 - mean_squared_error: 0.0280\n",
      "Epoch 41/200\n",
      "1489/1489 [==============================] - 0s 25us/step - loss: 0.0270 - mean_squared_error: 0.0270\n",
      "Epoch 42/200\n",
      "1489/1489 [==============================] - 0s 25us/step - loss: 0.0259 - mean_squared_error: 0.0259\n",
      "Epoch 43/200\n",
      "1489/1489 [==============================] - 0s 24us/step - loss: 0.0248 - mean_squared_error: 0.0248\n",
      "Epoch 44/200\n",
      "1489/1489 [==============================] - 0s 27us/step - loss: 0.0241 - mean_squared_error: 0.0241\n",
      "Epoch 45/200\n",
      "1489/1489 [==============================] - 0s 26us/step - loss: 0.0231 - mean_squared_error: 0.0231\n",
      "Epoch 46/200\n",
      "1489/1489 [==============================] - 0s 27us/step - loss: 0.0223 - mean_squared_error: 0.0223\n",
      "Epoch 47/200\n",
      "1489/1489 [==============================] - 0s 25us/step - loss: 0.0215 - mean_squared_error: 0.0215\n",
      "Epoch 48/200\n",
      "1489/1489 [==============================] - 0s 26us/step - loss: 0.0207 - mean_squared_error: 0.0207\n",
      "Epoch 49/200\n",
      "1489/1489 [==============================] - 0s 25us/step - loss: 0.0201 - mean_squared_error: 0.0201\n",
      "Epoch 50/200\n",
      "1489/1489 [==============================] - 0s 25us/step - loss: 0.0194 - mean_squared_error: 0.0194\n",
      "Epoch 51/200\n",
      "1489/1489 [==============================] - 0s 26us/step - loss: 0.0187 - mean_squared_error: 0.0187\n",
      "Epoch 52/200\n",
      "1489/1489 [==============================] - 0s 26us/step - loss: 0.0183 - mean_squared_error: 0.0183\n",
      "Epoch 53/200\n",
      "1489/1489 [==============================] - 0s 25us/step - loss: 0.0177 - mean_squared_error: 0.0177\n",
      "Epoch 54/200\n",
      "1489/1489 [==============================] - 0s 25us/step - loss: 0.0171 - mean_squared_error: 0.0171\n",
      "Epoch 55/200\n",
      "1489/1489 [==============================] - 0s 25us/step - loss: 0.0166 - mean_squared_error: 0.0166\n",
      "Epoch 56/200\n",
      "1489/1489 [==============================] - 0s 26us/step - loss: 0.0163 - mean_squared_error: 0.0163\n",
      "Epoch 57/200\n",
      "1489/1489 [==============================] - 0s 25us/step - loss: 0.0157 - mean_squared_error: 0.0157\n",
      "Epoch 58/200\n",
      "1489/1489 [==============================] - 0s 27us/step - loss: 0.0153 - mean_squared_error: 0.0153\n",
      "Epoch 59/200\n",
      "1489/1489 [==============================] - 0s 26us/step - loss: 0.0149 - mean_squared_error: 0.0149\n",
      "Epoch 60/200\n",
      "1489/1489 [==============================] - 0s 26us/step - loss: 0.0145 - mean_squared_error: 0.0145\n",
      "Epoch 61/200\n",
      "1489/1489 [==============================] - 0s 26us/step - loss: 0.0141 - mean_squared_error: 0.0141\n",
      "Epoch 62/200\n",
      "1489/1489 [==============================] - 0s 25us/step - loss: 0.0137 - mean_squared_error: 0.0137\n",
      "Epoch 63/200\n",
      "1489/1489 [==============================] - 0s 26us/step - loss: 0.0134 - mean_squared_error: 0.0134\n",
      "Epoch 64/200\n",
      "1489/1489 [==============================] - 0s 25us/step - loss: 0.0131 - mean_squared_error: 0.0131\n",
      "Epoch 65/200\n",
      "1489/1489 [==============================] - 0s 25us/step - loss: 0.0128 - mean_squared_error: 0.0128\n",
      "Epoch 66/200\n",
      "1489/1489 [==============================] - 0s 26us/step - loss: 0.0124 - mean_squared_error: 0.0124\n",
      "Epoch 67/200\n",
      "1489/1489 [==============================] - 0s 25us/step - loss: 0.0121 - mean_squared_error: 0.0121\n",
      "Epoch 68/200\n",
      "1489/1489 [==============================] - 0s 25us/step - loss: 0.0118 - mean_squared_error: 0.0118\n",
      "Epoch 69/200\n",
      "1489/1489 [==============================] - 0s 26us/step - loss: 0.0116 - mean_squared_error: 0.0116\n",
      "Epoch 70/200\n"
     ]
    },
    {
     "name": "stdout",
     "output_type": "stream",
     "text": [
      "1489/1489 [==============================] - 0s 25us/step - loss: 0.0113 - mean_squared_error: 0.0113\n",
      "Epoch 71/200\n",
      "1489/1489 [==============================] - 0s 24us/step - loss: 0.0111 - mean_squared_error: 0.0111\n",
      "Epoch 72/200\n",
      "1489/1489 [==============================] - 0s 25us/step - loss: 0.0109 - mean_squared_error: 0.0109\n",
      "Epoch 73/200\n",
      "1489/1489 [==============================] - 0s 25us/step - loss: 0.0106 - mean_squared_error: 0.0106\n",
      "Epoch 74/200\n",
      "1489/1489 [==============================] - 0s 25us/step - loss: 0.0103 - mean_squared_error: 0.0103\n",
      "Epoch 75/200\n",
      "1489/1489 [==============================] - 0s 25us/step - loss: 0.0101 - mean_squared_error: 0.0101\n",
      "Epoch 76/200\n",
      "1489/1489 [==============================] - 0s 25us/step - loss: 0.0099 - mean_squared_error: 0.0099\n",
      "Epoch 77/200\n",
      "1489/1489 [==============================] - 0s 24us/step - loss: 0.0097 - mean_squared_error: 0.0097\n",
      "Epoch 78/200\n",
      "1489/1489 [==============================] - 0s 25us/step - loss: 0.0095 - mean_squared_error: 0.0095\n",
      "Epoch 79/200\n",
      "1489/1489 [==============================] - 0s 24us/step - loss: 0.0093 - mean_squared_error: 0.0093\n",
      "Epoch 80/200\n",
      "1489/1489 [==============================] - 0s 25us/step - loss: 0.0091 - mean_squared_error: 0.0091\n",
      "Epoch 81/200\n",
      "1489/1489 [==============================] - 0s 24us/step - loss: 0.0089 - mean_squared_error: 0.0089\n",
      "Epoch 82/200\n",
      "1489/1489 [==============================] - 0s 24us/step - loss: 0.0088 - mean_squared_error: 0.0088\n",
      "Epoch 83/200\n",
      "1489/1489 [==============================] - 0s 25us/step - loss: 0.0086 - mean_squared_error: 0.0086\n",
      "Epoch 84/200\n",
      "1489/1489 [==============================] - 0s 24us/step - loss: 0.0084 - mean_squared_error: 0.0084\n",
      "Epoch 85/200\n",
      "1489/1489 [==============================] - 0s 25us/step - loss: 0.0083 - mean_squared_error: 0.0083\n",
      "Epoch 86/200\n",
      "1489/1489 [==============================] - 0s 25us/step - loss: 0.0081 - mean_squared_error: 0.0081\n",
      "Epoch 87/200\n",
      "1489/1489 [==============================] - 0s 24us/step - loss: 0.0080 - mean_squared_error: 0.0080\n",
      "Epoch 88/200\n",
      "1489/1489 [==============================] - 0s 26us/step - loss: 0.0079 - mean_squared_error: 0.0079\n",
      "Epoch 89/200\n",
      "1489/1489 [==============================] - 0s 25us/step - loss: 0.0077 - mean_squared_error: 0.0077\n",
      "Epoch 90/200\n",
      "1489/1489 [==============================] - 0s 24us/step - loss: 0.0075 - mean_squared_error: 0.0075\n",
      "Epoch 91/200\n",
      "1489/1489 [==============================] - 0s 25us/step - loss: 0.0074 - mean_squared_error: 0.0074\n",
      "Epoch 92/200\n",
      "1489/1489 [==============================] - 0s 26us/step - loss: 0.0073 - mean_squared_error: 0.0073\n",
      "Epoch 93/200\n",
      "1489/1489 [==============================] - 0s 26us/step - loss: 0.0072 - mean_squared_error: 0.0072\n",
      "Epoch 94/200\n",
      "1489/1489 [==============================] - 0s 26us/step - loss: 0.0071 - mean_squared_error: 0.0071\n",
      "Epoch 95/200\n",
      "1489/1489 [==============================] - 0s 26us/step - loss: 0.0069 - mean_squared_error: 0.0069\n",
      "Epoch 96/200\n",
      "1489/1489 [==============================] - 0s 26us/step - loss: 0.0068 - mean_squared_error: 0.0068\n",
      "Epoch 97/200\n",
      "1489/1489 [==============================] - 0s 25us/step - loss: 0.0067 - mean_squared_error: 0.0067\n",
      "Epoch 98/200\n",
      "1489/1489 [==============================] - 0s 24us/step - loss: 0.0066 - mean_squared_error: 0.0066\n",
      "Epoch 99/200\n",
      "1489/1489 [==============================] - 0s 25us/step - loss: 0.0065 - mean_squared_error: 0.0065\n",
      "Epoch 100/200\n",
      "1489/1489 [==============================] - 0s 25us/step - loss: 0.0064 - mean_squared_error: 0.0064\n",
      "Epoch 101/200\n",
      "1489/1489 [==============================] - 0s 25us/step - loss: 0.0063 - mean_squared_error: 0.0063\n",
      "Epoch 102/200\n",
      "1489/1489 [==============================] - 0s 25us/step - loss: 0.0062 - mean_squared_error: 0.0062\n",
      "Epoch 103/200\n",
      "1489/1489 [==============================] - 0s 24us/step - loss: 0.0061 - mean_squared_error: 0.0061\n",
      "Epoch 104/200\n",
      "1489/1489 [==============================] - 0s 24us/step - loss: 0.0060 - mean_squared_error: 0.0060\n",
      "Epoch 105/200\n",
      "1489/1489 [==============================] - 0s 25us/step - loss: 0.0059 - mean_squared_error: 0.0059\n",
      "Epoch 106/200\n",
      "1489/1489 [==============================] - 0s 24us/step - loss: 0.0058 - mean_squared_error: 0.0058\n",
      "Epoch 107/200\n",
      "1489/1489 [==============================] - 0s 25us/step - loss: 0.0058 - mean_squared_error: 0.0058\n",
      "Epoch 108/200\n",
      "1489/1489 [==============================] - 0s 25us/step - loss: 0.0056 - mean_squared_error: 0.0056\n",
      "Epoch 109/200\n",
      "1489/1489 [==============================] - 0s 24us/step - loss: 0.0056 - mean_squared_error: 0.0056\n",
      "Epoch 110/200\n",
      "1489/1489 [==============================] - 0s 24us/step - loss: 0.0055 - mean_squared_error: 0.0055\n",
      "Epoch 111/200\n",
      "1489/1489 [==============================] - 0s 24us/step - loss: 0.0054 - mean_squared_error: 0.0054\n",
      "Epoch 112/200\n",
      "1489/1489 [==============================] - 0s 24us/step - loss: 0.0053 - mean_squared_error: 0.0053\n",
      "Epoch 113/200\n",
      "1489/1489 [==============================] - 0s 26us/step - loss: 0.0053 - mean_squared_error: 0.0053\n",
      "Epoch 114/200\n",
      "1489/1489 [==============================] - 0s 24us/step - loss: 0.0052 - mean_squared_error: 0.0052\n",
      "Epoch 115/200\n",
      "1489/1489 [==============================] - 0s 25us/step - loss: 0.0051 - mean_squared_error: 0.0051\n",
      "Epoch 116/200\n",
      "1489/1489 [==============================] - 0s 25us/step - loss: 0.0050 - mean_squared_error: 0.0050\n",
      "Epoch 117/200\n",
      "1489/1489 [==============================] - 0s 24us/step - loss: 0.0050 - mean_squared_error: 0.0050\n",
      "Epoch 118/200\n",
      "1489/1489 [==============================] - 0s 24us/step - loss: 0.0049 - mean_squared_error: 0.0049\n",
      "Epoch 119/200\n",
      "1489/1489 [==============================] - 0s 24us/step - loss: 0.0048 - mean_squared_error: 0.0048\n",
      "Epoch 120/200\n",
      "1489/1489 [==============================] - 0s 24us/step - loss: 0.0048 - mean_squared_error: 0.0048\n",
      "Epoch 121/200\n",
      "1489/1489 [==============================] - 0s 25us/step - loss: 0.0047 - mean_squared_error: 0.0047\n",
      "Epoch 122/200\n",
      "1489/1489 [==============================] - 0s 25us/step - loss: 0.0046 - mean_squared_error: 0.0046\n",
      "Epoch 123/200\n",
      "1489/1489 [==============================] - 0s 24us/step - loss: 0.0046 - mean_squared_error: 0.0046\n",
      "Epoch 124/200\n",
      "1489/1489 [==============================] - 0s 25us/step - loss: 0.0045 - mean_squared_error: 0.0045\n",
      "Epoch 125/200\n",
      "1489/1489 [==============================] - 0s 25us/step - loss: 0.0045 - mean_squared_error: 0.0045\n",
      "Epoch 126/200\n",
      "1489/1489 [==============================] - 0s 24us/step - loss: 0.0044 - mean_squared_error: 0.0044\n",
      "Epoch 127/200\n",
      "1489/1489 [==============================] - 0s 24us/step - loss: 0.0044 - mean_squared_error: 0.0044\n",
      "Epoch 128/200\n",
      "1489/1489 [==============================] - 0s 24us/step - loss: 0.0043 - mean_squared_error: 0.0043\n",
      "Epoch 129/200\n",
      "1489/1489 [==============================] - 0s 24us/step - loss: 0.0042 - mean_squared_error: 0.0042\n",
      "Epoch 130/200\n",
      "1489/1489 [==============================] - 0s 25us/step - loss: 0.0042 - mean_squared_error: 0.0042\n",
      "Epoch 131/200\n",
      "1489/1489 [==============================] - 0s 25us/step - loss: 0.0041 - mean_squared_error: 0.0041\n",
      "Epoch 132/200\n",
      "1489/1489 [==============================] - 0s 25us/step - loss: 0.0041 - mean_squared_error: 0.0041\n",
      "Epoch 133/200\n",
      "1489/1489 [==============================] - 0s 24us/step - loss: 0.0041 - mean_squared_error: 0.0041\n",
      "Epoch 134/200\n",
      "1489/1489 [==============================] - 0s 24us/step - loss: 0.0040 - mean_squared_error: 0.0040\n",
      "Epoch 135/200\n",
      "1489/1489 [==============================] - 0s 24us/step - loss: 0.0040 - mean_squared_error: 0.0040\n",
      "Epoch 136/200\n",
      "1489/1489 [==============================] - 0s 24us/step - loss: 0.0039 - mean_squared_error: 0.0039\n",
      "Epoch 137/200\n",
      "1489/1489 [==============================] - 0s 24us/step - loss: 0.0039 - mean_squared_error: 0.0039\n",
      "Epoch 138/200\n",
      "1489/1489 [==============================] - 0s 24us/step - loss: 0.0038 - mean_squared_error: 0.0038\n",
      "Epoch 139/200\n",
      "1489/1489 [==============================] - 0s 24us/step - loss: 0.0038 - mean_squared_error: 0.0038\n",
      "Epoch 140/200\n",
      "1489/1489 [==============================] - 0s 25us/step - loss: 0.0037 - mean_squared_error: 0.0037\n"
     ]
    },
    {
     "name": "stdout",
     "output_type": "stream",
     "text": [
      "Epoch 141/200\n",
      "1489/1489 [==============================] - 0s 25us/step - loss: 0.0037 - mean_squared_error: 0.0037\n",
      "Epoch 142/200\n",
      "1489/1489 [==============================] - 0s 24us/step - loss: 0.0036 - mean_squared_error: 0.0036\n",
      "Epoch 143/200\n",
      "1489/1489 [==============================] - 0s 24us/step - loss: 0.0036 - mean_squared_error: 0.0036\n",
      "Epoch 144/200\n",
      "1489/1489 [==============================] - 0s 23us/step - loss: 0.0036 - mean_squared_error: 0.0036\n",
      "Epoch 145/200\n",
      "1489/1489 [==============================] - 0s 24us/step - loss: 0.0035 - mean_squared_error: 0.0035\n",
      "Epoch 146/200\n",
      "1489/1489 [==============================] - 0s 24us/step - loss: 0.0035 - mean_squared_error: 0.0035\n",
      "Epoch 147/200\n",
      "1489/1489 [==============================] - 0s 24us/step - loss: 0.0035 - mean_squared_error: 0.0035\n",
      "Epoch 148/200\n",
      "1489/1489 [==============================] - 0s 24us/step - loss: 0.0034 - mean_squared_error: 0.0034\n",
      "Epoch 149/200\n",
      "1489/1489 [==============================] - 0s 25us/step - loss: 0.0034 - mean_squared_error: 0.0034\n",
      "Epoch 150/200\n",
      "1489/1489 [==============================] - 0s 24us/step - loss: 0.0034 - mean_squared_error: 0.0034\n",
      "Epoch 151/200\n",
      "1489/1489 [==============================] - 0s 25us/step - loss: 0.0033 - mean_squared_error: 0.0033\n",
      "Epoch 152/200\n",
      "1489/1489 [==============================] - 0s 24us/step - loss: 0.0033 - mean_squared_error: 0.0033\n",
      "Epoch 153/200\n",
      "1489/1489 [==============================] - 0s 24us/step - loss: 0.0033 - mean_squared_error: 0.0033\n",
      "Epoch 154/200\n",
      "1489/1489 [==============================] - 0s 25us/step - loss: 0.0032 - mean_squared_error: 0.0032\n",
      "Epoch 155/200\n",
      "1489/1489 [==============================] - 0s 24us/step - loss: 0.0032 - mean_squared_error: 0.0032\n",
      "Epoch 156/200\n",
      "1489/1489 [==============================] - 0s 24us/step - loss: 0.0032 - mean_squared_error: 0.0032\n",
      "Epoch 157/200\n",
      "1489/1489 [==============================] - 0s 24us/step - loss: 0.0031 - mean_squared_error: 0.0031\n",
      "Epoch 158/200\n",
      "1489/1489 [==============================] - 0s 24us/step - loss: 0.0031 - mean_squared_error: 0.0031\n",
      "Epoch 159/200\n",
      "1489/1489 [==============================] - 0s 25us/step - loss: 0.0031 - mean_squared_error: 0.0031\n",
      "Epoch 160/200\n",
      "1489/1489 [==============================] - 0s 25us/step - loss: 0.0030 - mean_squared_error: 0.0030\n",
      "Epoch 161/200\n",
      "1489/1489 [==============================] - 0s 24us/step - loss: 0.0030 - mean_squared_error: 0.0030\n",
      "Epoch 162/200\n",
      "1489/1489 [==============================] - 0s 25us/step - loss: 0.0030 - mean_squared_error: 0.0030\n",
      "Epoch 163/200\n",
      "1489/1489 [==============================] - 0s 25us/step - loss: 0.0030 - mean_squared_error: 0.0030\n",
      "Epoch 164/200\n",
      "1489/1489 [==============================] - 0s 25us/step - loss: 0.0029 - mean_squared_error: 0.0029\n",
      "Epoch 165/200\n",
      "1489/1489 [==============================] - 0s 24us/step - loss: 0.0029 - mean_squared_error: 0.0029\n",
      "Epoch 166/200\n",
      "1489/1489 [==============================] - 0s 25us/step - loss: 0.0029 - mean_squared_error: 0.0029\n",
      "Epoch 167/200\n",
      "1489/1489 [==============================] - 0s 24us/step - loss: 0.0029 - mean_squared_error: 0.0029\n",
      "Epoch 168/200\n",
      "1489/1489 [==============================] - 0s 24us/step - loss: 0.0028 - mean_squared_error: 0.0028\n",
      "Epoch 169/200\n",
      "1489/1489 [==============================] - 0s 24us/step - loss: 0.0028 - mean_squared_error: 0.0028\n",
      "Epoch 170/200\n",
      "1489/1489 [==============================] - 0s 24us/step - loss: 0.0028 - mean_squared_error: 0.0028\n",
      "Epoch 171/200\n",
      "1489/1489 [==============================] - 0s 24us/step - loss: 0.0027 - mean_squared_error: 0.0027\n",
      "Epoch 172/200\n",
      "1489/1489 [==============================] - 0s 26us/step - loss: 0.0027 - mean_squared_error: 0.0027\n",
      "Epoch 173/200\n",
      "1489/1489 [==============================] - 0s 24us/step - loss: 0.0027 - mean_squared_error: 0.0027\n",
      "Epoch 174/200\n",
      "1489/1489 [==============================] - 0s 25us/step - loss: 0.0025 - mean_squared_error: 0.0025\n",
      "Epoch 175/200\n",
      "1489/1489 [==============================] - 0s 25us/step - loss: 0.0025 - mean_squared_error: 0.0025\n",
      "Epoch 176/200\n",
      "1489/1489 [==============================] - 0s 24us/step - loss: 0.0024 - mean_squared_error: 0.0024\n",
      "Epoch 177/200\n",
      "1489/1489 [==============================] - 0s 24us/step - loss: 0.0024 - mean_squared_error: 0.0024\n",
      "Epoch 178/200\n",
      "1489/1489 [==============================] - 0s 24us/step - loss: 0.0024 - mean_squared_error: 0.0024\n",
      "Epoch 179/200\n",
      "1489/1489 [==============================] - 0s 24us/step - loss: 0.0023 - mean_squared_error: 0.0023\n",
      "Epoch 180/200\n",
      "1489/1489 [==============================] - 0s 25us/step - loss: 0.0023 - mean_squared_error: 0.0023\n",
      "Epoch 181/200\n",
      "1489/1489 [==============================] - 0s 24us/step - loss: 0.0023 - mean_squared_error: 0.0023\n",
      "Epoch 182/200\n",
      "1489/1489 [==============================] - 0s 25us/step - loss: 0.0023 - mean_squared_error: 0.0023\n",
      "Epoch 183/200\n",
      "1489/1489 [==============================] - 0s 25us/step - loss: 0.0022 - mean_squared_error: 0.0022\n",
      "Epoch 184/200\n",
      "1489/1489 [==============================] - 0s 25us/step - loss: 0.0022 - mean_squared_error: 0.0022\n",
      "Epoch 185/200\n",
      "1489/1489 [==============================] - 0s 25us/step - loss: 0.0022 - mean_squared_error: 0.0022\n",
      "Epoch 186/200\n",
      "1489/1489 [==============================] - 0s 25us/step - loss: 0.0022 - mean_squared_error: 0.0022\n",
      "Epoch 187/200\n",
      "1489/1489 [==============================] - 0s 24us/step - loss: 0.0022 - mean_squared_error: 0.0022\n",
      "Epoch 188/200\n",
      "1489/1489 [==============================] - 0s 24us/step - loss: 0.0021 - mean_squared_error: 0.0021\n",
      "Epoch 189/200\n",
      "1489/1489 [==============================] - 0s 25us/step - loss: 0.0021 - mean_squared_error: 0.0021\n",
      "Epoch 190/200\n",
      "1489/1489 [==============================] - 0s 24us/step - loss: 0.0021 - mean_squared_error: 0.0021\n",
      "Epoch 191/200\n",
      "1489/1489 [==============================] - 0s 24us/step - loss: 0.0021 - mean_squared_error: 0.0021\n",
      "Epoch 192/200\n",
      "1489/1489 [==============================] - 0s 25us/step - loss: 0.0021 - mean_squared_error: 0.0021   \n",
      "Epoch 193/200\n",
      "1489/1489 [==============================] - 0s 25us/step - loss: 0.0020 - mean_squared_error: 0.0020\n",
      "Epoch 194/200\n",
      "1489/1489 [==============================] - 0s 24us/step - loss: 0.0020 - mean_squared_error: 0.0020\n",
      "Epoch 195/200\n",
      "1489/1489 [==============================] - 0s 25us/step - loss: 0.0020 - mean_squared_error: 0.0020   \n",
      "Epoch 196/200\n",
      "1489/1489 [==============================] - 0s 24us/step - loss: 0.0020 - mean_squared_error: 0.0020\n",
      "Epoch 197/200\n",
      "1489/1489 [==============================] - 0s 25us/step - loss: 0.0020 - mean_squared_error: 0.0020\n",
      "Epoch 198/200\n",
      "1489/1489 [==============================] - 0s 25us/step - loss: 0.0020 - mean_squared_error: 0.0020\n",
      "Epoch 199/200\n",
      "1489/1489 [==============================] - 0s 25us/step - loss: 0.0020 - mean_squared_error: 0.0020\n",
      "Epoch 200/200\n",
      "1489/1489 [==============================] - 0s 24us/step - loss: 0.0019 - mean_squared_error: 0.0019\n"
     ]
    }
   ],
   "source": [
    "tbCallBack = keras.callbacks.TensorBoard(log_dir='./Graph', \n",
    "                                         histogram_freq=0, \n",
    "                                         write_graph=True, \n",
    "                                         write_images=True)\n",
    "\n",
    "history = model.fit(X_train, Y, epochs=200, batch_size=50, \n",
    "                    verbose=1,\n",
    "                    shuffle=True,\n",
    "                    callbacks=[tbCallBack],\n",
    "                   )  "
   ]
  },
  {
   "cell_type": "markdown",
   "metadata": {},
   "source": [
    "# Get Negative (Trained) Reconstruction Costs"
   ]
  },
  {
   "cell_type": "code",
   "execution_count": 18,
   "metadata": {},
   "outputs": [],
   "source": [
    "THRESHOLD = 0.4\n",
    "\n",
    "def report_cost(result):\n",
    "    tot = len(result)\n",
    "    greater = len(np.where(result > THRESHOLD)[0])\n",
    "    print(\"Count: {}\\nGreater Than Threeshold: {} {}%\\nMean: {}\\nStd: {}\\nMin: {}\\nMax: {}\"\\\n",
    "          .format(tot,\n",
    "                  greater,\n",
    "                  (tot - greater) * 100 / tot,\n",
    "                  result.mean(),\n",
    "                  result.std(),\n",
    "                  result.min(),\n",
    "                  result.max()))"
   ]
  },
  {
   "cell_type": "code",
   "execution_count": 19,
   "metadata": {},
   "outputs": [
    {
     "name": "stdout",
     "output_type": "stream",
     "text": [
      "Count: 1489\n",
      "Greater Than Threeshold: 0 100.0%\n",
      "Mean: 0.028791146352887154\n",
      "Std: 0.03308597579598427\n",
      "Min: 0.00029613656806759536\n",
      "Max: 0.22811323404312134\n"
     ]
    }
   ],
   "source": [
    "reconstruction_costs = model.predict(X_train)\n",
    "report_cost(reconstruction_costs)"
   ]
  },
  {
   "cell_type": "code",
   "execution_count": 20,
   "metadata": {
    "scrolled": false
   },
   "outputs": [],
   "source": [
    "# unique, counts = np.unique(reconstruction_costs, return_counts=True)\n",
    "# dict(zip(unique, counts))"
   ]
  },
  {
   "cell_type": "markdown",
   "metadata": {},
   "source": [
    "# Get Negative (New) Reconstruction Costs"
   ]
  },
  {
   "cell_type": "code",
   "execution_count": 21,
   "metadata": {},
   "outputs": [
    {
     "name": "stdout",
     "output_type": "stream",
     "text": [
      "Count: 166\n",
      "Greater Than Threeshold: 3 98.19277108433735%\n",
      "Mean: 0.043408434838056564\n",
      "Std: 0.10676226019859314\n",
      "Min: 0.0005306086968630552\n",
      "Max: 0.9533023834228516\n"
     ]
    }
   ],
   "source": [
    "reconstruction_costs = model.predict(X_test)\n",
    "report_cost(reconstruction_costs)"
   ]
  },
  {
   "cell_type": "code",
   "execution_count": 22,
   "metadata": {
    "scrolled": false
   },
   "outputs": [],
   "source": [
    "# unique, counts = np.unique(reconstruction_costs, return_counts=True)\n",
    "# dict(zip(unique, counts))"
   ]
  },
  {
   "cell_type": "markdown",
   "metadata": {},
   "source": [
    "# Get Positive Reconstruction Costs"
   ]
  },
  {
   "cell_type": "code",
   "execution_count": 23,
   "metadata": {},
   "outputs": [
    {
     "name": "stdout",
     "output_type": "stream",
     "text": [
      "Count: 176\n",
      "Greater Than Threeshold: 84 52.27272727272727%\n",
      "Mean: 1.5404709577560425\n",
      "Std: 3.19538950920105\n",
      "Min: 0.021078500896692276\n",
      "Max: 22.383573532104492\n"
     ]
    }
   ],
   "source": [
    "reconstruction_costs = model.predict(positive)\n",
    "report_cost(reconstruction_costs)"
   ]
  },
  {
   "cell_type": "code",
   "execution_count": 24,
   "metadata": {},
   "outputs": [],
   "source": [
    "# unique, counts = np.unique(reconstruction_costs, return_counts=True)\n",
    "# dict(zip(unique, counts))"
   ]
  },
  {
   "cell_type": "code",
   "execution_count": null,
   "metadata": {},
   "outputs": [],
   "source": []
  }
 ],
 "metadata": {
  "kernelspec": {
   "display_name": "Python 3",
   "language": "python",
   "name": "python3"
  },
  "language_info": {
   "codemirror_mode": {
    "name": "ipython",
    "version": 3
   },
   "file_extension": ".py",
   "mimetype": "text/x-python",
   "name": "python",
   "nbconvert_exporter": "python",
   "pygments_lexer": "ipython3",
   "version": "3.7.1"
  }
 },
 "nbformat": 4,
 "nbformat_minor": 2
}
